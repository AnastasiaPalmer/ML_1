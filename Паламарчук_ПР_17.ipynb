{
  "nbformat": 4,
  "nbformat_minor": 0,
  "metadata": {
    "colab": {
      "provenance": []
    },
    "kernelspec": {
      "name": "python3",
      "display_name": "Python 3"
    },
    "language_info": {
      "name": "python"
    }
  },
  "cells": [
    {
      "cell_type": "markdown",
      "source": [
        "Лабораторна робота 1.\n",
        "Вступ до машинного навчання. Елементи лінійної алгебри. Варіант 17."
      ],
      "metadata": {
        "id": "hsUWO226Cmen"
      }
    },
    {
      "cell_type": "markdown",
      "source": [
        "Завдання 1.\n",
        "Створіть одновимірний масив (вектор) з числами, які є квадратами натуральних\n",
        "чисел, починаючи з 1, та виведіть його значення"
      ],
      "metadata": {
        "id": "QAfb7hznDVVR"
      }
    },
    {
      "cell_type": "code",
      "execution_count": null,
      "metadata": {
        "id": "m_dhbNw6f7XV",
        "colab": {
          "base_uri": "https://localhost:8080/"
        },
        "outputId": "6926faf3-46a8-45c4-f596-6fc4c60a6cf8"
      },
      "outputs": [
        {
          "output_type": "stream",
          "name": "stdout",
          "text": [
            "Вектор квадратів натуральних чисел: [  1   4   9  16  25  36  49  64  81 100]\n"
          ]
        }
      ],
      "source": [
        "import numpy as np\n",
        "\n",
        "# Створюємо вектор квадратів натуральних чисел\n",
        "vector = np.array([i**2 for i in range(1, 11)])\n",
        "print(\"Вектор квадратів натуральних чисел:\", vector)\n"
      ]
    },
    {
      "cell_type": "markdown",
      "source": [
        "Завдання 2.\n",
        "Створіть двовимірний масив (матрицю) розміром 3x3, заповніть його значеннями\n",
        "випадкових цілих чисел від 1 до 5.\n"
      ],
      "metadata": {
        "id": "9nWP2sPjDb__"
      }
    },
    {
      "cell_type": "code",
      "source": [
        "matrix = np.random.randint(1, 6, size=(3, 3))\n",
        "print(\"Матриця 3x3 з випадковими цілими числами від 1 до 5:\\n\", matrix)\n"
      ],
      "metadata": {
        "colab": {
          "base_uri": "https://localhost:8080/"
        },
        "id": "DxkOJCBeDaaN",
        "outputId": "2014a17b-de3d-4e69-c815-6b7bcd6adc87"
      },
      "execution_count": null,
      "outputs": [
        {
          "output_type": "stream",
          "name": "stdout",
          "text": [
            "Матриця 3x3 з випадковими цілими числами від 1 до 5:\n",
            " [[4 4 1]\n",
            " [5 2 3]\n",
            " [2 1 5]]\n"
          ]
        }
      ]
    },
    {
      "cell_type": "markdown",
      "source": [
        "Завдання 3.\n",
        "Створіть масив розміром 3x3, заповніть його випадковими натуральними числами від\n",
        "1 до 5 та знайдіть максимальне значення за рядком."
      ],
      "metadata": {
        "id": "SLStTrIVDl7r"
      }
    },
    {
      "cell_type": "code",
      "source": [
        "matrix = np.random.randint(1, 6, size=(3, 3))\n",
        "max_values = matrix.max(axis=1)\n",
        "print(\"Матриця:\\n\", matrix)\n",
        "print(\"Максимальні значення за рядком:\", max_values)\n"
      ],
      "metadata": {
        "colab": {
          "base_uri": "https://localhost:8080/"
        },
        "id": "AnnZy1-lDrTq",
        "outputId": "6793ddf2-aa5b-48c8-bf08-a06eca701d32"
      },
      "execution_count": null,
      "outputs": [
        {
          "output_type": "stream",
          "name": "stdout",
          "text": [
            "Матриця:\n",
            " [[1 1 5]\n",
            " [4 5 4]\n",
            " [1 1 1]]\n",
            "Максимальні значення за рядком: [5 5 1]\n"
          ]
        }
      ]
    },
    {
      "cell_type": "markdown",
      "source": [
        "Завдання 4.\n",
        "Створіть масив розміром 3x3, заповніть його випадковими дійсними числами в\n",
        "діапазоні від 0 до 10 та знайдіть вектор-стовпчик, що містить мінімальні елементи в\n",
        "кожному рядку."
      ],
      "metadata": {
        "id": "E_UCIQBLDuZ7"
      }
    },
    {
      "cell_type": "code",
      "source": [
        "matrix = np.random.uniform(0, 10, size=(3, 3))\n",
        "min_values = matrix.min(axis=1)\n",
        "print(\"Матриця:\\n\", matrix)\n",
        "print(\"Мінімальні елементи в кожному рядку:\", min_values)\n"
      ],
      "metadata": {
        "colab": {
          "base_uri": "https://localhost:8080/"
        },
        "id": "20CLcR_UDzDg",
        "outputId": "6b0d74c8-a391-45f2-c49c-9f78e79067cc"
      },
      "execution_count": null,
      "outputs": [
        {
          "output_type": "stream",
          "name": "stdout",
          "text": [
            "Матриця:\n",
            " [[8.40874751 4.19584857 6.68044555]\n",
            " [3.63466973 7.67435171 5.85748303]\n",
            " [6.79403271 9.04131662 0.17739421]]\n",
            "Мінімальні елементи в кожному рядку: [4.19584857 3.63466973 0.17739421]\n"
          ]
        }
      ]
    },
    {
      "cell_type": "markdown",
      "source": [
        "Завдання 5.\n",
        "Створіть два одновимірних масиви розміром 6, заповніть їх випадковими дійсними\n",
        "числами від 0 до 1 та виконайте на них поелементні операції додавання, віднімання ta\n",
        "множення."
      ],
      "metadata": {
        "id": "_kO9bCl7Dzpn"
      }
    },
    {
      "cell_type": "code",
      "source": [
        "vector1 = np.random.random(6)\n",
        "vector2 = np.random.random(6)\n",
        "\n",
        "addition = vector1 + vector2\n",
        "subtraction = vector1 - vector2\n",
        "multiplication = vector1 * vector2\n",
        "\n",
        "print(\"Вектор 1:\", vector1)\n",
        "print(\"Вектор 2:\", vector2)\n",
        "print(\"Додавання:\", addition)\n",
        "print(\"Віднімання:\", subtraction)\n",
        "print(\"Множення:\", multiplication)\n"
      ],
      "metadata": {
        "colab": {
          "base_uri": "https://localhost:8080/"
        },
        "id": "QCEhGbiGD5sk",
        "outputId": "0f29d2fb-1168-4e90-f478-8e756ad57782"
      },
      "execution_count": null,
      "outputs": [
        {
          "output_type": "stream",
          "name": "stdout",
          "text": [
            "Вектор 1: [0.32789992 0.84345242 0.04407579 0.90112375 0.33719189 0.28341865]\n",
            "Вектор 2: [0.99796014 0.44120519 0.06809962 0.05660738 0.90683716 0.12515415]\n",
            "Додавання: [1.32586006 1.28465762 0.11217542 0.95773113 1.24402905 0.4085728 ]\n",
            "Віднімання: [-0.67006022  0.40224723 -0.02402383  0.84451637 -0.56964528  0.1582645 ]\n",
            "Множення: [0.32723105 0.37213559 0.00300154 0.05101025 0.30577814 0.03547102]\n"
          ]
        }
      ]
    },
    {
      "cell_type": "markdown",
      "source": [
        "Завдання 6.\n",
        "Створіть дві матриці 4x4, заповніть їх довільними цілими числами від 0 до 10 та\n",
        "знайдіть їх добуток."
      ],
      "metadata": {
        "id": "hlYwZJBAD6Yl"
      }
    },
    {
      "cell_type": "code",
      "source": [
        "matrix1 = np.random.randint(0, 11, size=(4, 4))\n",
        "matrix2 = np.random.randint(0, 11, size=(4, 4))\n",
        "product = np.dot(matrix1, matrix2)\n",
        "\n",
        "print(\"Матриця 1:\\n\", matrix1)\n",
        "print(\"Матриця 2:\\n\", matrix2)\n",
        "print(\"Добуток матриць:\\n\", product)\n"
      ],
      "metadata": {
        "colab": {
          "base_uri": "https://localhost:8080/"
        },
        "id": "zI69M8EKD_z7",
        "outputId": "e41b58c6-2540-40be-906d-745abc0d08d8"
      },
      "execution_count": null,
      "outputs": [
        {
          "output_type": "stream",
          "name": "stdout",
          "text": [
            "Матриця 1:\n",
            " [[ 1  3  0  9]\n",
            " [ 1  3  1  9]\n",
            " [ 8  3 10  2]\n",
            " [ 0  9  5  2]]\n",
            "Матриця 2:\n",
            " [[ 7  8  6  6]\n",
            " [ 0 10  3  6]\n",
            " [ 1  7  0  0]\n",
            " [ 4  4  5  0]]\n",
            "Добуток матриць:\n",
            " [[ 43  74  60  24]\n",
            " [ 44  81  60  24]\n",
            " [ 74 172  67  66]\n",
            " [ 13 133  37  54]]\n"
          ]
        }
      ]
    },
    {
      "cell_type": "markdown",
      "source": [
        "Завдання 7. Створіть дві матриці розміром 3x2 та 2x4, заповніть їх випадковими цілими числами\n",
        "в діапазоні від 1 до 4 та перемножте їх між собою.\n"
      ],
      "metadata": {
        "id": "awioCKyBED0b"
      }
    },
    {
      "cell_type": "code",
      "source": [
        "matrix1 = np.random.randint(1, 5, size=(3, 2))\n",
        "matrix2 = np.random.randint(1, 5, size=(2, 4))\n",
        "product = np.dot(matrix1, matrix2)\n",
        "\n",
        "print(\"Матриця 3x2:\\n\", matrix1)\n",
        "print(\"Матриця 2x4:\\n\", matrix2)\n",
        "print(\"Добуток матриць:\\n\", product)\n"
      ],
      "metadata": {
        "colab": {
          "base_uri": "https://localhost:8080/"
        },
        "id": "J5SPHl-4EE9x",
        "outputId": "96c78cc1-771d-48b1-8925-259c06e79cac"
      },
      "execution_count": null,
      "outputs": [
        {
          "output_type": "stream",
          "name": "stdout",
          "text": [
            "Матриця 3x2:\n",
            " [[1 4]\n",
            " [4 4]\n",
            " [3 1]]\n",
            "Матриця 2x4:\n",
            " [[2 1 2 1]\n",
            " [3 2 3 3]]\n",
            "Добуток матриць:\n",
            " [[14  9 14 13]\n",
            " [20 12 20 16]\n",
            " [ 9  5  9  6]]\n"
          ]
        }
      ]
    },
    {
      "cell_type": "markdown",
      "source": [
        "Завдання 8.\n",
        "Створіть матрицю розміром 2x2, заповніть її випадковими цілими числами в діапазоні\n",
        "від 1 до 8 та знайдіть її обернену матрицю.\n"
      ],
      "metadata": {
        "id": "WGoPq5G3EJdk"
      }
    },
    {
      "cell_type": "code",
      "source": [
        "matrix = np.random.randint(1, 9, size=(2, 2))\n",
        "inverse_matrix = np.linalg.inv(matrix)\n",
        "\n",
        "print(\"Матриця:\\n\", matrix)\n",
        "print(\"Обернена матриця:\\n\", inverse_matrix)\n"
      ],
      "metadata": {
        "colab": {
          "base_uri": "https://localhost:8080/"
        },
        "id": "j3m7P111EPom",
        "outputId": "c1e1c2d0-68f1-4270-e3cf-fce6f483c2d8"
      },
      "execution_count": null,
      "outputs": [
        {
          "output_type": "stream",
          "name": "stdout",
          "text": [
            "Матриця:\n",
            " [[5 2]\n",
            " [1 4]]\n",
            "Обернена матриця:\n",
            " [[ 0.22222222 -0.11111111]\n",
            " [-0.05555556  0.27777778]]\n"
          ]
        }
      ]
    },
    {
      "cell_type": "markdown",
      "source": [
        "Завдання 9. Створіть матрицю розміром 3x3, заповніть її випадковими цілими числами в діапазоні\n",
        "від 0 до 1 та транспонуйте її."
      ],
      "metadata": {
        "id": "ZRirZ5_3EQEw"
      }
    },
    {
      "cell_type": "code",
      "source": [
        "matrix = np.random.randint(0, 2, size=(3, 3))\n",
        "transposed_matrix = np.transpose(matrix)\n",
        "\n",
        "print(\"Матриця:\\n\", matrix)\n",
        "print(\"Транспонована матриця:\\n\", transposed_matrix)\n"
      ],
      "metadata": {
        "colab": {
          "base_uri": "https://localhost:8080/"
        },
        "id": "OoDmZ7BYESYo",
        "outputId": "fcf334f9-0eed-433c-fd45-ecd2d8d866a9"
      },
      "execution_count": null,
      "outputs": [
        {
          "output_type": "stream",
          "name": "stdout",
          "text": [
            "Матриця:\n",
            " [[1 0 0]\n",
            " [0 1 0]\n",
            " [0 1 0]]\n",
            "Транспонована матриця:\n",
            " [[1 0 0]\n",
            " [0 1 1]\n",
            " [0 0 0]]\n"
          ]
        }
      ]
    },
    {
      "cell_type": "markdown",
      "source": [
        "Завдання 10. Створіть матрицю розміром 3x4 та вектор розміром 4x1, заповніть матрицю\n",
        "випадковими дійсними числами від 0 до 1, а вектор - випадковими цілими числами в\n",
        "діапазоні від 1 до 10, і знайдіть добуток матриці на вектор."
      ],
      "metadata": {
        "id": "nx5nyzJ4EWhn"
      }
    },
    {
      "cell_type": "code",
      "source": [
        "matrix = np.random.random((3, 4))\n",
        "vector = np.random.randint(1, 11, size=(4, 1))\n",
        "product = np.dot(matrix, vector)\n",
        "\n",
        "print(\"Матриця:\\n\", matrix)\n",
        "print(\"Вектор:\\n\", vector)\n",
        "print(\"Добуток матриці на вектор:\\n\", product)\n"
      ],
      "metadata": {
        "colab": {
          "base_uri": "https://localhost:8080/"
        },
        "id": "NvgXbp5QEc64",
        "outputId": "fd8afa4d-896f-4eb2-dc33-fe2bf49d5937"
      },
      "execution_count": null,
      "outputs": [
        {
          "output_type": "stream",
          "name": "stdout",
          "text": [
            "Матриця:\n",
            " [[0.04260394 0.79258096 0.33410716 0.42213276]\n",
            " [0.0413624  0.7809454  0.88738815 0.1976209 ]\n",
            " [0.96387916 0.31174863 0.77686225 0.41160538]]\n",
            "Вектор:\n",
            " [[3]\n",
            " [6]\n",
            " [6]\n",
            " [7]]\n",
            "Добуток матриці на вектор:\n",
            " [[ 9.8428699 ]\n",
            " [11.5174348 ]\n",
            " [12.30454041]]\n"
          ]
        }
      ]
    },
    {
      "cell_type": "markdown",
      "source": [
        "Завдання 11. Створіть матрицю розміром 2x3 та вектор розміром 3x1, заповніть матрицю\n",
        "випадковими цілими числами в діапазоні від 1 до 10, а вектор - випадковими цілими\n",
        "числами в діапазоні від 1 до 10, і знайдіть добуток матриці на вектор.\n"
      ],
      "metadata": {
        "id": "5c0e_KYQEfsG"
      }
    },
    {
      "cell_type": "code",
      "source": [
        "matrix = np.random.randint(1, 11, size=(2, 3))\n",
        "vector = np.random.randint(1, 11, size=(3, 1))\n",
        "product = np.dot(matrix, vector)\n",
        "\n",
        "print(\"Матриця:\\n\", matrix)\n",
        "print(\"Вектор:\\n\", vector)\n",
        "print(\"Добуток матриці на вектор:\\n\", product)\n"
      ],
      "metadata": {
        "colab": {
          "base_uri": "https://localhost:8080/"
        },
        "id": "yTr9xBPMEjeq",
        "outputId": "4c5e1102-dcd9-4971-8aab-33dcc7defcb6"
      },
      "execution_count": null,
      "outputs": [
        {
          "output_type": "stream",
          "name": "stdout",
          "text": [
            "Матриця:\n",
            " [[1 3 5]\n",
            " [5 7 5]]\n",
            "Вектор:\n",
            " [[10]\n",
            " [ 2]\n",
            " [ 2]]\n",
            "Добуток матриці на вектор:\n",
            " [[26]\n",
            " [74]]\n"
          ]
        }
      ]
    },
    {
      "cell_type": "markdown",
      "source": [
        "Завдання 12. Створіть дві матриці розміром 2x2, заповніть їх випадковими цілими числами в\n",
        "діапазоні від 1 до 10 та знайдіть суму елементів діагоналі для обох матриць (окремо)."
      ],
      "metadata": {
        "id": "hBiSD8m4EmQu"
      }
    },
    {
      "cell_type": "code",
      "source": [
        "matrix1 = np.random.randint(1, 11, size=(2, 2))\n",
        "matrix2 = np.random.randint(1, 11, size=(2, 2))\n",
        "\n",
        "diag_sum1 = np.trace(matrix1)\n",
        "diag_sum2 = np.trace(matrix2)\n",
        "\n",
        "print(\"Матриця 1:\\n\", matrix1)\n",
        "print(\"Сума діагоналі:\", diag_sum1)\n",
        "print(\"Матриця 2:\\n\", matrix2)\n",
        "print(\"Сума діагоналі:\", diag_sum2)\n"
      ],
      "metadata": {
        "colab": {
          "base_uri": "https://localhost:8080/"
        },
        "id": "__VBHIgJEqFn",
        "outputId": "baffbfd5-28d7-4ab5-a206-887670e7c962"
      },
      "execution_count": null,
      "outputs": [
        {
          "output_type": "stream",
          "name": "stdout",
          "text": [
            "Матриця 1:\n",
            " [[ 4 10]\n",
            " [ 1  9]]\n",
            "Сума діагоналі: 13\n",
            "Матриця 2:\n",
            " [[6 4]\n",
            " [2 7]]\n",
            "Сума діагоналі: 13\n"
          ]
        }
      ]
    },
    {
      "cell_type": "markdown",
      "source": [
        "Завдання 13. Створіть дві матриці розміром 3x3, заповніть їх випадковими дійсними числами в\n",
        "діапазоні від 0 до 1 та знайдіть суму їх елементів."
      ],
      "metadata": {
        "id": "Y9XEFkSQEs8I"
      }
    },
    {
      "cell_type": "code",
      "source": [
        "matrix1 = np.random.random((3, 3))\n",
        "matrix2 = np.random.random((3, 3))\n",
        "total_sum = np.sum(matrix1) + np.sum(matrix2)\n",
        "\n",
        "print(\"Матриця 1:\\n\", matrix1)\n",
        "print(\"Матриця 2:\\n\", matrix2)\n",
        "print(\"Сума елементів обох матриць:\", total_sum)\n"
      ],
      "metadata": {
        "colab": {
          "base_uri": "https://localhost:8080/"
        },
        "id": "DCN0aQkCEwyx",
        "outputId": "27ebce7c-fc84-4a22-9109-04e918752350"
      },
      "execution_count": null,
      "outputs": [
        {
          "output_type": "stream",
          "name": "stdout",
          "text": [
            "Матриця 1:\n",
            " [[0.91551319 0.99410279 0.44115714]\n",
            " [0.4475013  0.09490331 0.25469803]\n",
            " [0.0321103  0.08673669 0.24940056]]\n",
            "Матриця 2:\n",
            " [[0.18424529 0.75171052 0.17457647]\n",
            " [0.90075221 0.06356681 0.56372385]\n",
            " [0.25574755 0.6159248  0.95010863]]\n",
            "Сума елементів обох матриць: 7.976479433488934\n"
          ]
        }
      ]
    },
    {
      "cell_type": "markdown",
      "source": [
        "Завдання 14. Створіть матрицю розміром 3x3, заповніть її випадковими дійсними числами в\n",
        "діапазоні від -5 до 5 та знайдіть середнє геометричне значення елементів матриці.\n"
      ],
      "metadata": {
        "id": "jc4-bi4SExT8"
      }
    },
    {
      "cell_type": "code",
      "source": [
        "matrix = np.random.uniform(-5, 5, size=(3, 3))\n",
        "geometric_mean = np.exp(np.mean(np.log(matrix + 5)))  # зсув на 5 для уникнення проблем з негативними значеннями\n",
        "\n",
        "print(\"Матриця:\\n\", matrix)\n",
        "print(\"Середнє геометричне значення елементів матриці:\", geometric_mean)\n"
      ],
      "metadata": {
        "colab": {
          "base_uri": "https://localhost:8080/"
        },
        "id": "cpM03extE2pF",
        "outputId": "53d92dd7-806e-4e6b-d12a-ca452e308a78"
      },
      "execution_count": null,
      "outputs": [
        {
          "output_type": "stream",
          "name": "stdout",
          "text": [
            "Матриця:\n",
            " [[-0.68500071  4.06792454  4.79196104]\n",
            " [-2.85990695 -1.28262278 -0.57424507]\n",
            " [-2.96913964 -0.18091846 -2.40566084]]\n",
            "Середнє геометричне значення елементів матриці: 4.120644192149657\n"
          ]
        }
      ]
    },
    {
      "cell_type": "markdown",
      "source": [
        "Завдання 15. Створіть матрицю розміром 3x3, заповніть її випадковими дійсними числами в\n",
        "діапазоні від 0 до 1 та знайдіть вектор-стовпчик, що містить кількість додатних\n",
        "елементів в кожному рядку матриці.\n"
      ],
      "metadata": {
        "id": "YwC4PPTxE3NZ"
      }
    },
    {
      "cell_type": "code",
      "source": [
        "matrix = np.random.random((3, 3))\n",
        "positive_counts = np.sum(matrix > 0, axis=1)\n",
        "\n",
        "print(\"Матриця:\\n\", matrix)\n",
        "print(\"Кількість додатних елементів у кожному рядку:\", positive_counts)\n"
      ],
      "metadata": {
        "colab": {
          "base_uri": "https://localhost:8080/"
        },
        "id": "11qEgEx9E8mk",
        "outputId": "54c2682f-454b-402c-a014-0a95ef3a3efd"
      },
      "execution_count": null,
      "outputs": [
        {
          "output_type": "stream",
          "name": "stdout",
          "text": [
            "Матриця:\n",
            " [[0.64552428 0.13474383 0.31457478]\n",
            " [0.17270562 0.62216402 0.67716057]\n",
            " [0.22777591 0.99911957 0.60151052]]\n",
            "Кількість додатних елементів у кожному рядку: [3 3 3]\n"
          ]
        }
      ]
    },
    {
      "cell_type": "markdown",
      "source": [
        "Висновок: У цій лабораторній роботі ми застосували елементи лінійної алгебри для створення та маніпуляції векторами і матрицями за допомогою бібліотеки NumPy. Це дало нам можливість ознайомитися з базовими операціями, такими як поелементне додавання, множення, транспонування, знаходження оберненої матриці тощо, що є основними елементами для подальшого вивчення машинного навчання."
      ],
      "metadata": {
        "id": "EBxDS_31FF8v"
      }
    }
  ]
}